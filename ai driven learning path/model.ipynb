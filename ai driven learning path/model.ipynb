{
 "cells": [
  {
   "cell_type": "code",
   "execution_count": 9,
   "id": "e5906792",
   "metadata": {},
   "outputs": [],
   "source": [
    "import pandas as pd\n",
    "from sklearn.cluster import KMeans\n",
    "from sklearn.preprocessing import StandardScaler\n",
    "import joblib\n",
    "\n",
    "def train_model():\n",
    "    df = pd.read_csv(r'C:\\Users\\anjal\\ai driven learning path\\personalized_learning_dataset.csv')\n",
    "\n",
    "    features = [\n",
    "        'Time_Spent_on_Videos', 'Quiz_Attempts', 'Quiz_Scores',\n",
    "        'Forum_Participation', 'Assignment_Completion_Rate',\n",
    "        'Final_Exam_Score', 'Feedback_Score'\n",
    "    ]\n",
    "    X = df[features]\n",
    "    \n",
    "    scaler = StandardScaler()\n",
    "    X_scaled = scaler.fit_transform(X)\n",
    "\n",
    "    kmeans = KMeans(n_clusters=3, random_state=42)\n",
    "    df['cluster'] = kmeans.fit_predict(X_scaled)\n",
    "\n",
    "    joblib.dump(kmeans, 'kmeans_model.pkl')\n",
    "    joblib.dump(scaler, 'scaler.pkl')\n",
    "    df.to_csv(r'C:\\Users\\anjal\\ai driven learning path\\students_clustered.csv', index=False)\n",
    "\n",
    "if __name__ == \"__main__\":\n",
    "    train_model()\n"
   ]
  },
  {
   "cell_type": "code",
   "execution_count": null,
   "id": "605f957c",
   "metadata": {},
   "outputs": [],
   "source": []
  }
 ],
 "metadata": {
  "kernelspec": {
   "display_name": "Python 3",
   "language": "python",
   "name": "python3"
  },
  "language_info": {
   "codemirror_mode": {
    "name": "ipython",
    "version": 3
   },
   "file_extension": ".py",
   "mimetype": "text/x-python",
   "name": "python",
   "nbconvert_exporter": "python",
   "pygments_lexer": "ipython3",
   "version": "3.9.13"
  }
 },
 "nbformat": 4,
 "nbformat_minor": 5
}
